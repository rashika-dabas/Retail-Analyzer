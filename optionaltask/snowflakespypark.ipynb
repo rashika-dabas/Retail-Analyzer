{
 "cells": [
  {
   "cell_type": "code",
   "execution_count": null,
   "metadata": {},
   "outputs": [],
   "source": [
    "#import required libraries\n",
    "from pyspark import SparkConf, SparkContext\n",
    "from pyspark.sql import SQLContext\n",
    "\n",
    "mySparkContext = SparkContext(\"local\", \"SnowflakeApp\")\n",
    "spark = SQLContext(mySparkContext )\n",
    "spark_conf = SparkConf().setMaster('local')\n",
    "\n",
    "# Snowflake connection parameters\n",
    "sfparams = {\n",
    "  \"sfURL\" : \"TUOZTFB.DW83189.snowflakecomputing.com\",\n",
    "  \"sfUser\" : \"Rashika\",\n",
    "  \"sfPassword\" : \"Rashika19\",\n",
    "  \"sfDatabase\" : \"gbc\",\n",
    "  \"sfSchema\" : \"public\",\n",
    "  \"sfWarehouse\" : \"gbc_wh\"\n",
    "}\n",
    "\n",
    "#read full table\n",
    "df = spark.read.format(\"snowflake\") \\\n",
    "  .options(**sfparams) \\\n",
    "  .option(\"dbtable\",  \"SalesEmp\") \\\n",
    "  .load()\n",
    "\n",
    "#run custom query\n",
    "df = spark.read.format(\"snowflake\") \\\n",
    "  .options(**sfparams) \\\n",
    "  .option(\"query\",  \"SELECT * FROM SalesEmp\") \\\n",
    "  .load()\n",
    "\n",
    "# Show the DataFrame\n",
    "df.show(truncate=False)"
   ]
  },
  {
   "cell_type": "code",
   "execution_count": null,
   "metadata": {},
   "outputs": [],
   "source": []
  }
 ],
 "metadata": {
  "kernelspec": {
   "display_name": "base",
   "language": "python",
   "name": "python3"
  },
  "language_info": {
   "name": "python",
   "version": "3.9.12"
  }
 },
 "nbformat": 4,
 "nbformat_minor": 2
}
